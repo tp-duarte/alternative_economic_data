{
 "cells": [
  {
   "cell_type": "code",
   "execution_count": 1,
   "metadata": {},
   "outputs": [],
   "source": [
    "import etl_utils as eu\n",
    "import os\n",
    "import pandas as pd"
   ]
  },
  {
   "cell_type": "code",
   "execution_count": 8,
   "metadata": {},
   "outputs": [],
   "source": [
    "STAGING_2_1 = DATAPATH = r\"..\\data\\traditional_data\\staging_2\"\n",
    "STAGING_2_2 = DATAPATH = r\"..\\data\\alternative_data\\staging_2\"\n",
    "\n",
    "PROCESSED_1 = DATAPATH = r\"..\\data\\traditional_data\\processed\"\n",
    "PROCESSED_2 = DATAPATH = r\"..\\data\\alternative_data\\processed\""
   ]
  },
  {
   "cell_type": "code",
   "execution_count": 9,
   "metadata": {},
   "outputs": [],
   "source": [
    "trad_files = eu.get_csv_files(STAGING_2_1)\n",
    "alt_files = eu.get_csv_files(STAGING_2_2)"
   ]
  },
  {
   "cell_type": "code",
   "execution_count": 10,
   "metadata": {},
   "outputs": [
    {
     "data": {
      "text/plain": [
       "['..\\\\data\\\\traditional_data\\\\staging_2\\\\cali-annual-disposable_income.csv',\n",
       " '..\\\\data\\\\traditional_data\\\\staging_2\\\\cali-annual-expenditure.csv',\n",
       " '..\\\\data\\\\traditional_data\\\\staging_2\\\\cali-annual-minimum_wage.csv',\n",
       " '..\\\\data\\\\traditional_data\\\\staging_2\\\\cali-monthly-employment.csv',\n",
       " '..\\\\data\\\\traditional_data\\\\staging_2\\\\cali-monthly-exports.csv',\n",
       " '..\\\\data\\\\traditional_data\\\\staging_2\\\\cali-monthly-imports.csv',\n",
       " '..\\\\data\\\\traditional_data\\\\staging_2\\\\cali-quarterly-gdp.csv',\n",
       " '..\\\\data\\\\traditional_data\\\\staging_2\\\\cali-quarterly-personal_income.csv']"
      ]
     },
     "execution_count": 10,
     "metadata": {},
     "output_type": "execute_result"
    }
   ],
   "source": [
    "trad_files"
   ]
  },
  {
   "cell_type": "code",
   "execution_count": 52,
   "metadata": {},
   "outputs": [],
   "source": [
    "test = pd.read_csv(\"..\\\\data\\\\traditional_data\\\\staging_2\\\\cali-annual-expenditure.csv\", sep=\";\")"
   ]
  },
  {
   "cell_type": "code",
   "execution_count": 53,
   "metadata": {},
   "outputs": [],
   "source": [
    "test = test.astype(str)"
   ]
  },
  {
   "cell_type": "code",
   "execution_count": 54,
   "metadata": {},
   "outputs": [],
   "source": [
    "test = eu.transform_to_date(test)"
   ]
  },
  {
   "cell_type": "code",
   "execution_count": 57,
   "metadata": {},
   "outputs": [],
   "source": [
    "result = test.asfreq(\"QS\")"
   ]
  },
  {
   "cell_type": "code",
   "execution_count": 58,
   "metadata": {},
   "outputs": [
    {
     "data": {
      "text/html": [
       "<div>\n",
       "<style scoped>\n",
       "    .dataframe tbody tr th:only-of-type {\n",
       "        vertical-align: middle;\n",
       "    }\n",
       "\n",
       "    .dataframe tbody tr th {\n",
       "        vertical-align: top;\n",
       "    }\n",
       "\n",
       "    .dataframe thead th {\n",
       "        text-align: right;\n",
       "    }\n",
       "</style>\n",
       "<table border=\"1\" class=\"dataframe\">\n",
       "  <thead>\n",
       "    <tr style=\"text-align: right;\">\n",
       "      <th></th>\n",
       "      <th>expenditure</th>\n",
       "    </tr>\n",
       "    <tr>\n",
       "      <th>date</th>\n",
       "      <th></th>\n",
       "    </tr>\n",
       "  </thead>\n",
       "  <tbody>\n",
       "    <tr>\n",
       "      <th>1997-01-01</th>\n",
       "      <td>676652.2</td>\n",
       "    </tr>\n",
       "    <tr>\n",
       "      <th>1997-04-01</th>\n",
       "      <td>NaN</td>\n",
       "    </tr>\n",
       "    <tr>\n",
       "      <th>1997-07-01</th>\n",
       "      <td>NaN</td>\n",
       "    </tr>\n",
       "    <tr>\n",
       "      <th>1997-10-01</th>\n",
       "      <td>NaN</td>\n",
       "    </tr>\n",
       "    <tr>\n",
       "      <th>1998-01-01</th>\n",
       "      <td>716811.3</td>\n",
       "    </tr>\n",
       "    <tr>\n",
       "      <th>...</th>\n",
       "      <td>...</td>\n",
       "    </tr>\n",
       "    <tr>\n",
       "      <th>2020-01-01</th>\n",
       "      <td>1848651.7</td>\n",
       "    </tr>\n",
       "    <tr>\n",
       "      <th>2020-04-01</th>\n",
       "      <td>NaN</td>\n",
       "    </tr>\n",
       "    <tr>\n",
       "      <th>2020-07-01</th>\n",
       "      <td>NaN</td>\n",
       "    </tr>\n",
       "    <tr>\n",
       "      <th>2020-10-01</th>\n",
       "      <td>NaN</td>\n",
       "    </tr>\n",
       "    <tr>\n",
       "      <th>2021-01-01</th>\n",
       "      <td>2082806.8</td>\n",
       "    </tr>\n",
       "  </tbody>\n",
       "</table>\n",
       "<p>97 rows × 1 columns</p>\n",
       "</div>"
      ],
      "text/plain": [
       "           expenditure\n",
       "date                  \n",
       "1997-01-01    676652.2\n",
       "1997-04-01         NaN\n",
       "1997-07-01         NaN\n",
       "1997-10-01         NaN\n",
       "1998-01-01    716811.3\n",
       "...                ...\n",
       "2020-01-01   1848651.7\n",
       "2020-04-01         NaN\n",
       "2020-07-01         NaN\n",
       "2020-10-01         NaN\n",
       "2021-01-01   2082806.8\n",
       "\n",
       "[97 rows x 1 columns]"
      ]
     },
     "execution_count": 58,
     "metadata": {},
     "output_type": "execute_result"
    }
   ],
   "source": [
    "result"
   ]
  },
  {
   "cell_type": "code",
   "execution_count": null,
   "metadata": {},
   "outputs": [],
   "source": [
    "for file in trad_files:\n",
    "\n",
    "    # file specifications\n",
    "    \n",
    "    file_name = os.path.basename(file)\n",
    "    encoding = eu.encoding_detect(file)\n",
    "    delimeter = eu.detect_delimiter(file)\n",
    "\n",
    "    # reading and transforming data\n",
    "\n",
    "    data = pd.read_csv(file, encoding=encoding, delimiter=delimeter)\n",
    "    data = eu.transform_to_date(data)\n",
    "    \n",
    "    quarter = eu.transform_to_quarterly(data, file_name)\n",
    "    quarter = quarter.query(\"index >= '2005-01-01' and index <= '2022-10-01'\")\n",
    "    \n",
    "    # exporting data\n",
    "    \n",
    "    quarterly_data = eu.rename_file(file, \"quarterly\")\n",
    "    quarterly_data_processed = eu.change_directory(quarterly_data, PROCESSED_1)\n",
    "    quarter.to_csv(quarterly_data_processed)"
   ]
  },
  {
   "cell_type": "code",
   "execution_count": 6,
   "metadata": {},
   "outputs": [],
   "source": [
    "for file in alt_files:\n",
    "    \n",
    "    # file specifications\n",
    "    \n",
    "    file_name = os.path.basename(file)\n",
    "    encoding = eu.encoding_detect(file)\n",
    "    delimeter = eu.detect_delimiter(file)\n",
    "    \n",
    "    # reading and transforming data\n",
    "\n",
    "    data = pd.read_csv(file, encoding=encoding, delimiter=delimeter)\n",
    "    data = eu.transform_to_date(data)\n",
    "    \n",
    "    quarter = eu.transform_to_quarterly(data, file_name)\n",
    "    quarter = quarter.query(\"index >= '2005-01-01' and index <= '2022-10-01'\")\n",
    "    \n",
    "    # exporting data\n",
    "    \n",
    "    quarterly_data = eu.rename_file(file, \"quarterly\")\n",
    "    quarterly_data_processed = eu.change_directory(quarterly_data, PROCESSED_2)\n",
    "    quarter.to_csv(quarterly_data_processed)"
   ]
  }
 ],
 "metadata": {
  "kernelspec": {
   "display_name": "Python 3 (ipykernel)",
   "language": "python",
   "name": "python3"
  },
  "language_info": {
   "codemirror_mode": {
    "name": "ipython",
    "version": 3
   },
   "file_extension": ".py",
   "mimetype": "text/x-python",
   "name": "python",
   "nbconvert_exporter": "python",
   "pygments_lexer": "ipython3",
   "version": "3.9.5"
  }
 },
 "nbformat": 4,
 "nbformat_minor": 2
}
