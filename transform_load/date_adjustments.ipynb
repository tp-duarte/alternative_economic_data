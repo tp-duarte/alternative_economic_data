{
 "cells": [
  {
   "cell_type": "code",
   "execution_count": 1,
   "metadata": {},
   "outputs": [],
   "source": [
    "import etl_utils as eu\n",
    "import os\n",
    "import pandas as pd"
   ]
  },
  {
   "cell_type": "code",
   "execution_count": 2,
   "metadata": {},
   "outputs": [],
   "source": [
    "STAGING_2_1 = DATAPATH = r\"..\\data\\traditional_data\\staging_2\"\n",
    "STAGING_2_2 = DATAPATH = r\"..\\data\\alternative_data\\staging_2\"\n",
    "\n",
    "PROCESSED_1 = DATAPATH = r\"..\\data\\traditional_data\\processed\"\n",
    "PROCESSED_2 = DATAPATH = r\"..\\data\\alternative_data\\processed\""
   ]
  },
  {
   "cell_type": "code",
   "execution_count": 3,
   "metadata": {},
   "outputs": [],
   "source": [
    "trad_files = eu.get_csv_files(STAGING_2_1)\n",
    "alt_files = eu.get_csv_files(STAGING_2_2)"
   ]
  },
  {
   "cell_type": "code",
   "execution_count": null,
   "metadata": {},
   "outputs": [],
   "source": [
    "for file in trad_files:\n",
    "\n",
    "    # file specifications\n",
    "    \n",
    "    file_name = os.path.basename(file)\n",
    "    encoding = eu.encoding_detect(file)\n",
    "    delimeter = eu.detect_delimiter(file)\n",
    "\n",
    "    # reading and transforming data\n",
    "\n",
    "    data = pd.read_csv(file, encoding=encoding, delimiter=delimeter)\n",
    "    data = eu.transform_to_date(data)\n",
    "    \n",
    "    quarter = eu.transform_to_quarterly(data, file_name)\n",
    "    quarter = quarter.query(\"index >= '2005-01-01' and index <= '2022-10-01'\")\n",
    "    \n",
    "    # exporting data\n",
    "    \n",
    "    quarterly_data = eu.rename_file(file, \"quarterly\")\n",
    "    quarterly_data_processed = eu.change_directory(quarterly_data, PROCESSED_1)\n",
    "    quarter.to_csv(quarterly_data_processed)"
   ]
  },
  {
   "cell_type": "code",
   "execution_count": 6,
   "metadata": {},
   "outputs": [],
   "source": [
    "for file in alt_files:\n",
    "    \n",
    "    # file specifications\n",
    "    \n",
    "    file_name = os.path.basename(file)\n",
    "    encoding = eu.encoding_detect(file)\n",
    "    delimeter = eu.detect_delimiter(file)\n",
    "    \n",
    "    # reading and transforming data\n",
    "\n",
    "    data = pd.read_csv(file, encoding=encoding, delimiter=delimeter)\n",
    "    data = eu.transform_to_date(data)\n",
    "    \n",
    "    quarter = eu.transform_to_quarterly(data, file_name)\n",
    "    quarter = quarter.query(\"index >= '2005-01-01' and index <= '2022-10-01'\")\n",
    "    \n",
    "    # exporting data\n",
    "    \n",
    "    quarterly_data = eu.rename_file(file, \"quarterly\")\n",
    "    quarterly_data_processed = eu.change_directory(quarterly_data, PROCESSED_2)\n",
    "    quarter.to_csv(quarterly_data_processed)"
   ]
  }
 ],
 "metadata": {
  "kernelspec": {
   "display_name": "Python 3 (ipykernel)",
   "language": "python",
   "name": "python3"
  },
  "language_info": {
   "codemirror_mode": {
    "name": "ipython",
    "version": 3
   },
   "file_extension": ".py",
   "mimetype": "text/x-python",
   "name": "python",
   "nbconvert_exporter": "python",
   "pygments_lexer": "ipython3",
   "version": "3.9.5"
  }
 },
 "nbformat": 4,
 "nbformat_minor": 2
}
