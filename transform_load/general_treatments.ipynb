{
 "cells": [
  {
   "cell_type": "code",
   "execution_count": 1,
   "metadata": {},
   "outputs": [],
   "source": [
    "import etl_utils as eu\n",
    "import pandas as pd \n",
    "import os"
   ]
  },
  {
   "cell_type": "code",
   "execution_count": 2,
   "metadata": {},
   "outputs": [],
   "source": [
    "DATAPATH = r\"..\\data\\alternative_data\\staging\"\n",
    "PROCESSED_DIR = r\"..\\\\data\\\\alternative_data\\\\processed\""
   ]
  },
  {
   "cell_type": "code",
   "execution_count": null,
   "metadata": {},
   "outputs": [],
   "source": [
    "csv_files = eu.get_csv_files(DATAPATH)"
   ]
  },
  {
   "cell_type": "code",
   "execution_count": null,
   "metadata": {},
   "outputs": [],
   "source": [
    "google_trends = \"cali-monthly-google_trends.csv\"\n",
    "mobility_report = \"us-daily-mobility_report.csv\"\n",
    "consumer_sentiment = \"us-monthly-consumer_sentiment.csv\"\n",
    "\n",
    "for file in csv_files:\n",
    "    file_name = os.path.basename(file)\n",
    "    data = pd.read_csv(file)\n",
    "    \n",
    "    if file_name == google_trends:\n",
    "        \n",
    "        data = data.replace(\"<1\", \"0\")  # replacing unformatted numbers\n",
    "        \n",
    "    elif file_name == mobility_report:\n",
    "        \n",
    "        date_col = data.pop('date')  \n",
    "        data.insert(0, 'date', date_col)   # querying file for california data \n",
    "        data = data.query(\"state == 'California'\")\n",
    "        \n",
    "        file = eu.get_modified_file_path(name, \"cali-daily-mobility_report.csv\")\n",
    "    \n",
    "    elif file_name == consumer_sentiment:\n",
    "        \n",
    "        data[[\"Month\", \"Year\"]] = data[[\"Month\", \"Year\"]].astype(str) # adjusting date string \n",
    "        date_series = data['Year'] + \"-\" + data['Month']\n",
    "        data.insert(0, \"date\", date_series)\n",
    "\n",
    "    file = eu.change_directory(file, PROCESSED_DIR)\n",
    "    data.to_csv(file)      \n",
    "\n",
    "    "
   ]
  }
 ],
 "metadata": {
  "kernelspec": {
   "display_name": "base",
   "language": "python",
   "name": "python3"
  },
  "language_info": {
   "codemirror_mode": {
    "name": "ipython",
    "version": 3
   },
   "file_extension": ".py",
   "mimetype": "text/x-python",
   "name": "python",
   "nbconvert_exporter": "python",
   "pygments_lexer": "ipython3",
   "version": "3.9.5"
  },
  "orig_nbformat": 4
 },
 "nbformat": 4,
 "nbformat_minor": 2
}
