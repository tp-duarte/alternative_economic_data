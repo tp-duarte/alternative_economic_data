{
 "cells": [
  {
   "cell_type": "code",
   "execution_count": 15,
   "metadata": {},
   "outputs": [],
   "source": [
    "import etl_utils as eu\n",
    "import pandas as pd \n",
    "import os"
   ]
  },
  {
   "cell_type": "code",
   "execution_count": 25,
   "metadata": {},
   "outputs": [],
   "source": [
    "STAGING_1_1 = r\"..\\data\\traditional_data\\staging_1\"\n",
    "STAGING_1_2 = r\"..\\data\\alternative_data\\staging_1\"\n",
    "\n",
    "STAGING_2_1 = r\"..\\data\\traditional_data\\staging_2\"\n",
    "STAGING_2_2 = r\"..\\data\\alternative_data\\staging_2\""
   ]
  },
  {
   "cell_type": "code",
   "execution_count": 26,
   "metadata": {},
   "outputs": [],
   "source": [
    "trad_files = eu.get_csv_files(STAGING_1_1)\n",
    "alt_files = eu.get_csv_files(STAGING_1_2)"
   ]
  },
  {
   "cell_type": "code",
   "execution_count": 30,
   "metadata": {},
   "outputs": [],
   "source": [
    "personal_income = \"cali-quarterly-personal_income.csv\"\n",
    "\n",
    "\n",
    "for file in trad_files: \n",
    "    file_name = os.path.basename(file)\n",
    "\n",
    "    if file_name == personal_income:\n",
    "\n",
    "        # reading file\n",
    "        \n",
    "        encoding = eu.encoding_detect(file)\n",
    "        delimeter = eu.detect_delimiter(file)           \n",
    "       \n",
    "        data = pd.read_csv(file, encoding=encoding, delimiter=delimeter)\n",
    "        \n",
    "        # doing general data transformations\n",
    "\n",
    "        replacements = {\n",
    "            \":Q1\" : \"-01-01\",\n",
    "            \":Q2\" : \"-04-01\",\n",
    "            \":Q3\" : \"-07-01\",\n",
    "            \":Q4\" : \"-10-01\",            \n",
    "                        } \n",
    "                \n",
    "        data[\"date\"] = data[\"date\"].replace(replacements, regex=True)\n",
    "        \n",
    "        # exporting data to second staging area\n",
    "        \n",
    "        file = eu.change_directory(file, STAGING_2_1)    \n",
    "        data.to_csv(file, index=False)    "
   ]
  },
  {
   "cell_type": "code",
   "execution_count": 4,
   "metadata": {},
   "outputs": [],
   "source": [
    "google_trends = \"cali-monthly-google_trends.csv\"\n",
    "mobility_report = \"us-daily-mobility_report.csv\"\n",
    "consumer_sentiment = \"us-monthly-consumer_sentiment.csv\"\n",
    "\n",
    "for file in alt_files:\n",
    "    \n",
    "    # reading files \n",
    "    \n",
    "    file_name = os.path.basename(file)\n",
    "    encoding = eu.encoding_detect(file)\n",
    "    delimeter = eu.detect_delimiter(file)   \n",
    "    \n",
    "    data = pd.read_csv(file)\n",
    "    \n",
    "    # doing general data transformations\n",
    "    \n",
    "    if file_name == google_trends:\n",
    "        \n",
    "        data = data.replace(\"<1\", \"0\")  # replacing unformatted numbers\n",
    "        \n",
    "    elif file_name == mobility_report:\n",
    "        \n",
    "        date_col = data.pop('date')  \n",
    "        data.insert(0, 'date', date_col)   # querying file for california data \n",
    "        data = data.query(\"state == 'California'\")\n",
    "        \n",
    "        file = eu.get_modified_file_path(file_name, \"cali-daily-mobility_report.csv\")\n",
    "    \n",
    "    elif file_name == consumer_sentiment:\n",
    "        \n",
    "        data[[\"Month\", \"Year\"]] = data[[\"Month\", \"Year\"]].astype(str) # adjusting date string \n",
    "        date_series = data['Year'] + \"-\" + data['Month']\n",
    "        data.insert(0, \"date\", date_series)\n",
    "\n",
    "    # exporting data to second staging area\n",
    "    \n",
    "    file = eu.change_directory(file, STAGING_2_2)\n",
    "    data.to_csv(file, index=False)   \n",
    "    "
   ]
  }
 ],
 "metadata": {
  "kernelspec": {
   "display_name": "base",
   "language": "python",
   "name": "python3"
  },
  "language_info": {
   "codemirror_mode": {
    "name": "ipython",
    "version": 3
   },
   "file_extension": ".py",
   "mimetype": "text/x-python",
   "name": "python",
   "nbconvert_exporter": "python",
   "pygments_lexer": "ipython3",
   "version": "3.9.5"
  },
  "orig_nbformat": 4
 },
 "nbformat": 4,
 "nbformat_minor": 2
}
